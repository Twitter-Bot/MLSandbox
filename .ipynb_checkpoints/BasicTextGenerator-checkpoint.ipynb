{
 "cells": [
  {
   "cell_type": "code",
   "execution_count": 1,
   "id": "660b672b-1fed-4cb9-8dd7-8ae4b454532e",
   "metadata": {},
   "outputs": [],
   "source": [
    "import numpy as np\n",
    "import pandas as pd\n",
    "from tensorflow.keras.models import Sequential\n",
    "from tensorflow.keras.layers import Dense\n",
    "from tensorflow.keras.layers import Dropout\n",
    "from tensorflow.keras.layers import LSTM\n",
    "from tensorflow.keras.utils import to_categorical"
   ]
  },
  {
   "cell_type": "code",
   "execution_count": 2,
   "id": "bd5cc1aa-0b4e-4ab6-9c32-ed62e4a5267e",
   "metadata": {},
   "outputs": [],
   "source": [
    "text=(open(\"./datasets/sonnets.txt\").read())\n",
    "text=text.lower()"
   ]
  },
  {
   "cell_type": "code",
   "execution_count": 3,
   "id": "06a0af5b-6128-4086-bc97-e3ea3a1c6b2f",
   "metadata": {},
   "outputs": [],
   "source": [
    "characters = sorted(list(set(text)))\n",
    "\n",
    "n_to_char = {n:char for n, char in enumerate(characters)}\n",
    "char_to_n = {char:n for n, char in enumerate(characters)}"
   ]
  },
  {
   "cell_type": "code",
   "execution_count": 4,
   "id": "56919610-f66b-459c-b45f-bdfd050a8a20",
   "metadata": {},
   "outputs": [],
   "source": [
    "X = []\n",
    "Y = []\n",
    "length = len(text)\n",
    "seq_length = 100\n",
    "\n",
    "for i in range(0, length-seq_length, 1):\n",
    "    sequence = text[i:i + seq_length]\n",
    "    label =text[i + seq_length]\n",
    "    X.append([char_to_n[char] for char in sequence])\n",
    "    Y.append(char_to_n[label])"
   ]
  },
  {
   "cell_type": "code",
   "execution_count": 5,
   "id": "5dc45e96-5bfa-4f89-8c49-8432ce627a7c",
   "metadata": {},
   "outputs": [],
   "source": [
    "X_modified = np.reshape(X, (len(X), seq_length, 1))\n",
    "X_modified = X_modified / float(len(characters))\n",
    "Y_modified = to_categorical(Y)"
   ]
  },
  {
   "cell_type": "code",
   "execution_count": 6,
   "id": "5164a28e-b941-4307-804c-798115a1077a",
   "metadata": {},
   "outputs": [],
   "source": [
    "model = Sequential()\n",
    "model.add(LSTM(700, input_shape=(X_modified.shape[1], X_modified.shape[2]), return_sequences=True))\n",
    "model.add(Dropout(0.2))\n",
    "model.add(LSTM(700, return_sequences=True))\n",
    "model.add(Dropout(0.2))\n",
    "model.add(LSTM(700))\n",
    "model.add(Dropout(0.2))\n",
    "model.add(Dense(Y_modified.shape[1], activation='softmax'))\n",
    "model.compile(loss='categorical_crossentropy', optimizer='adam')"
   ]
  },
  {
   "cell_type": "code",
   "execution_count": 7,
   "id": "117c1f96-877b-4e9e-83d7-756896945b93",
   "metadata": {},
   "outputs": [],
   "source": [
    "#model.fit(X_modified, Y_modified, epochs=100, batch_size=50)"
   ]
  },
  {
   "cell_type": "code",
   "execution_count": 8,
   "id": "8ad4bd0e-23a0-4946-996d-26d2a72279a4",
   "metadata": {},
   "outputs": [],
   "source": [
    "#model.save_weights('./models/text_generator.h5')"
   ]
  },
  {
   "cell_type": "code",
   "execution_count": 9,
   "id": "a996112d-e1ca-46c0-8aae-2f3d60759606",
   "metadata": {},
   "outputs": [],
   "source": [
    "model.load_weights('./models/text_generator.h5')"
   ]
  },
  {
   "cell_type": "code",
   "execution_count": 10,
   "id": "783dc6c2-b8db-42eb-b475-aad58069ee31",
   "metadata": {},
   "outputs": [
    {
     "name": "stdout",
     "output_type": "stream",
     "text": [
      "tion follows where thou art.\n",
      "  gentle thou art, and therefore to be won,\n",
      "  beauteous thou art, therefore to be an inpwe,\n",
      "  thy presenteon sime as the linu ro me\n",
      "  the soses ieaven with fis form up more sears   the lostal mort right aeauty still domment;\n",
      "  when i am forse with pich in tinse amtelt,\n",
      "  my self thou spon the strength of suches's rearo?\n",
      "  of thin my life thought falte mot thy sine,\n",
      "  aut thy thoughts, or thy sueet self too 'givers,\n",
      "  and bll the black and times for to pake\n",
      "  that to \n"
     ]
    }
   ],
   "source": [
    "string_mapped = X[np.random.randint(len(X))]\n",
    "full_string = [n_to_char[value] for value in string_mapped]\n",
    "for i in range(400):\n",
    "    x = np.reshape(string_mapped,(1,len(string_mapped), 1))\n",
    "    x = x / float(len(characters))\n",
    "\n",
    "    pred_index = np.argmax(model.predict(x, verbose=0))\n",
    "    seq = [n_to_char[value] for value in string_mapped]\n",
    "    full_string.append(n_to_char[pred_index])\n",
    "\n",
    "    string_mapped.append(pred_index)\n",
    "    string_mapped = string_mapped[1:len(string_mapped)]\n",
    "\n",
    "txt=\"\"\n",
    "for char in full_string:\n",
    "    txt = txt+char\n",
    "print(txt)"
   ]
  },
  {
   "cell_type": "code",
   "execution_count": null,
   "id": "09851029-ba6a-4d55-9080-56f353ce6486",
   "metadata": {},
   "outputs": [],
   "source": []
  }
 ],
 "metadata": {
  "kernelspec": {
   "display_name": "Python 3",
   "language": "python",
   "name": "python3"
  },
  "language_info": {
   "codemirror_mode": {
    "name": "ipython",
    "version": 3
   },
   "file_extension": ".py",
   "mimetype": "text/x-python",
   "name": "python",
   "nbconvert_exporter": "python",
   "pygments_lexer": "ipython3",
   "version": "3.8.5"
  }
 },
 "nbformat": 4,
 "nbformat_minor": 5
}
